{
 "cells": [
  {
   "cell_type": "code",
   "execution_count": 1,
   "metadata": {},
   "outputs": [
    {
     "name": "stdout",
     "output_type": "stream",
     "text": [
      "hft research system version 2.2\n"
     ]
    }
   ],
   "source": [
    "import numpy as np\n",
    "import pandas as pd\n",
    "import datetime as dt\n",
    "import sys\n",
    "import math\n",
    "from hft_rsys import *\n",
    "import matplotlib.pyplot as plt\n",
    "import copy\n",
    "from Helper import *\n",
    "from observe_order_book import HRB\n",
    "import seaborn as sns\n",
    "# Caveat\n",
    "import importlib\n",
    "import pickle\n",
    "from Microstructure_Factors import *\n",
    "import IPython\n",
    "# ML Libs\n",
    "from sklearn import tree\n",
    "%load_ext autoreload"
   ]
  },
  {
   "cell_type": "code",
   "execution_count": 2,
   "metadata": {},
   "outputs": [],
   "source": [
    "%%capture\n",
    "st = dt.datetime(2019, 7, 17)\n",
    "et = dt.datetime(2019, 7, 31)\n",
    "contract = \"IH\"\n",
    "month = \"1908\"\n",
    "source = \"l2_cffex\"\n",
    "hrb = HRB.HRB(st, et, contract, month, source, 1);\n",
    "\n",
    "print(\"Loading original data\")"
   ]
  },
  {
   "cell_type": "markdown",
   "metadata": {},
   "source": [
    "Build Microstructure Factos Now"
   ]
  },
  {
   "cell_type": "code",
   "execution_count": 3,
   "metadata": {},
   "outputs": [
    {
     "name": "stdout",
     "output_type": "stream",
     "text": [
      "Initializing MSF_Library\n",
      "Signal points: 2648\n"
     ]
    }
   ],
   "source": [
    "%aimport Microstructure_Factors\n",
    "%autoreload 1\n",
    "\n",
    "msf = MSF_Library(hrb)\n",
    "# self.df[\"bid_or_ask\"], self.response_list\n",
    "msf.generate_signal_IH()\n",
    "msf.condition = \"ba\"\n",
    "msf.period = 10\n",
    "pd.set_option('display.max_columns', 500)\n"
   ]
  },
  {
   "cell_type": "code",
   "execution_count": 4,
   "metadata": {},
   "outputs": [
    {
     "name": "stdout",
     "output_type": "stream",
     "text": [
      "Loading the factors......\n",
      "Index(['BidPrice5', 'BidSize5', 'BidPrice4', 'BidSize4', 'BidPrice3',\n",
      "       'BidSize3', 'BidPrice2', 'BidSize2', 'BidPrice1', 'BidSize1',\n",
      "       'AskPrice1', 'AskSize1', 'AskPrice2', 'AskSize2', 'AskPrice3',\n",
      "       'AskSize3', 'AskPrice4', 'AskSize4', 'AskPrice5', 'AskSize5',\n",
      "       'TimeStamp', 'hCount', 'volume', 'turnover', 'FallLimit', 'RiseLimit',\n",
      "       'TotalVolume', 'Turnover', 'MidPrice', 'vwap', 'bid_or_ask', 'ret_-1',\n",
      "       'base_price_stdev', 'oppo_price_stdev', 'sprd'],\n",
      "      dtype='object')\n"
     ]
    }
   ],
   "source": [
    "print(\"Loading the factors......\")\n",
    "#get_vwap_value(msf.df, msf.multiplier, msf.vol_side, msf.condition)\n",
    "#get_vwap_position(msf.df, msf.multiplier, msf.vol_side, msf.condition)\n",
    "#get_ret_direction(msf.df, msf.min_tick, msf.period, msf.condition, \"tick\")\n",
    "get_ret_direction(msf.df, msf.min_tick, -1, msf.condition, \"tick\")\n",
    "# more ret_direction should be added\n",
    "#get_sprd_ma(msf.df, msf.min_tick, msf.period)\n",
    "#get_sprd_stdev(msf.df, msf.min_tick, msf.period)\n",
    "#get_volume_frac(msf.df, msf.period)\n",
    "\n",
    "#get_lv1_distance(msf.df, msf.min_tick, msf.condition, -1)\n",
    "#get_widen_distance(msf.df, msf.min_tick, msf.condition, True)\n",
    "#get_best_quote_ratio(msf.df, msf.condition)\n",
    "\n",
    "#get_TT_mean(msf.df, msf.multiplier, msf.vol_side, msf.period, msf.condition)\n",
    "#get_SN_mean(msf.df, msf.period, msf.condition)\n",
    "#get_TR_mean(msf.df, msf.multiplier, msf.vol_side, msf.period, msf.condition)\n",
    "\n",
    "get_price_stdev(msf.df, msf.min_tick, msf.period, msf.condition)\n",
    "\n",
    "# log volume\n",
    "msf.df[\"sprd\"] = ((msf.df[\"AskPrice1\"] - msf.df[\"BidPrice1\"])/msf.min_tick).round()\n",
    "#msf.df[\"volume\"] = np.log(msf.df[\"volume\"] + 1)\n",
    "print(msf.df.columns)"
   ]
  },
  {
   "cell_type": "code",
   "execution_count": 5,
   "metadata": {},
   "outputs": [
    {
     "name": "stdout",
     "output_type": "stream",
     "text": [
      "Preparing the features....\n"
     ]
    },
    {
     "data": {
      "text/plain": [
       "<matplotlib.axes._subplots.AxesSubplot at 0x7f5cfe084198>"
      ]
     },
     "execution_count": 5,
     "metadata": {},
     "output_type": "execute_result"
    },
    {
     "data": {
      "image/png": "[encoded data removed]",
      "text/plain": [
       "<Figure size 1152x720 with 2 Axes>"
      ]
     },
     "metadata": {
      "needs_background": "light"
     },
     "output_type": "display_data"
    }
   ],
   "source": [
    "\n",
    "print(\"Preparing the features....\")\n",
    "unused_column_names = [\"BidPrice5\", \"BidSize5\", \"BidPrice4\", \"BidSize4\",\n",
    "                        \"BidPrice3\", \"BidSize3\", \"BidPrice2\", \"BidSize2\",\n",
    "                        \"BidPrice1\", \"BidSize1\", \"AskPrice1\", \"AskSize1\",\n",
    "                        \"AskPrice2\", \"AskSize2\", \"AskPrice3\", \"AskSize3\",\n",
    "                        \"AskPrice4\", \"AskSize4\", \"AskPrice5\", \"AskSize5\",\n",
    "                        \"TimeStamp\", \"hCount\", \"FallLimit\", \"RiseLimit\", \n",
    "                        \"TotalVolume\", \"Turnover\", \"MidPrice\", \"vwap\", \n",
    "                        \"bid_or_ask\", \"turnover\"]\n",
    "\n",
    "tdf = copy.deepcopy(msf.df)\n",
    "# remove first 50 rows\n",
    "tdf = tdf.iloc[50:]\n",
    "# leave only rows with signals\n",
    "tdf = tdf[tdf[\"bid_or_ask\"] != \"NAN\"]\n",
    "tdf.drop(unused_column_names, axis = 1, inplace = True)\n",
    "#print(tdf.columns)\n",
    "corr = tdf.corr().round(2)\n",
    "%matplotlib inline \n",
    "fig = plt.figure(figsize=(16, 10))\n",
    "sns.heatmap(corr, \n",
    "            xticklabels=corr.columns.values,\n",
    "            yticklabels=corr.columns.values,\n",
    "           annot = True, cmap=\"PiYG\")\n"
   ]
  },
  {
   "cell_type": "code",
   "execution_count": 6,
   "metadata": {},
   "outputs": [
    {
     "name": "stdout",
     "output_type": "stream",
     "text": [
      "Prepare the responses....\n",
      "2647\n"
     ]
    }
   ],
   "source": [
    "\n",
    "print(\"Prepare the responses....\")\n",
    "feature_names = tdf.columns.values\n",
    "predictors = tdf.values\n",
    "responses = msf.response_list[50:]\n",
    "responses = responses[~np.isnan(responses)]\n",
    "\n",
    "\"\"\"\n",
    "for name in feature_names:\n",
    "    print(name + \":\")\n",
    "    print(tdf[name].isnull().any().any())\n",
    "print(len(responses))\n",
    "print(predictors.shape)\n",
    "\"\"\"\n",
    "print(len(responses))\n"
   ]
  },
  {
   "cell_type": "code",
   "execution_count": 10,
   "metadata": {
    "scrolled": false
   },
   "outputs": [],
   "source": [
    "clf = tree.DecisionTreeClassifier(max_depth = 6, min_samples_split = 500, \n",
    "                                  min_samples_leaf = 200, class_weight = \"balanced\") #, class_weight = \"balanced\"\n",
    "clf = clf.fit(predictors, responses)\n",
    "\n",
    "%matplotlib qt\n",
    "#%matplotlib inline \n",
    "fig = plt.figure(figsize=(16, 10))\n",
    "tree.plot_tree(clf, feature_names = feature_names, fontsize = 8)\n",
    "plt.show()"
   ]
  },
  {
   "cell_type": "code",
   "execution_count": 8,
   "metadata": {},
   "outputs": [
    {
     "name": "stdout",
     "output_type": "stream",
     "text": [
      "Feature importance\n"
     ]
    },
    {
     "data": {
      "image/png": "[encoded data removed]",
      "text/plain": [
       "<Figure size 432x288 with 1 Axes>"
      ]
     },
     "metadata": {
      "needs_background": "light"
     },
     "output_type": "display_data"
    }
   ],
   "source": [
    "plt.close()\n",
    "%matplotlib inline \n",
    "\n",
    "importance = clf.feature_importances_\n",
    "importance = pd.DataFrame(importance, index=feature_names, \n",
    "                          columns=[\"Importance\"])\n",
    "importance.sort_values(by = [\"Importance\"], ascending = False, inplace = True)\n",
    "importance.plot.bar()\n",
    "print(\"Feature importance\")\n",
    "plt.tight_layout()\n",
    "plt.xticks(rotation = 90)\n",
    "plt.show()"
   ]
  },
  {
   "cell_type": "code",
   "execution_count": null,
   "metadata": {},
   "outputs": [],
   "source": []
  }
 ],
 "metadata": {
  "kernelspec": {
   "display_name": "Python 3",
   "language": "python",
   "name": "python3"
  },
  "language_info": {
   "codemirror_mode": {
    "name": "ipython",
    "version": 3
   },
   "file_extension": ".py",
   "mimetype": "text/x-python",
   "name": "python",
   "nbconvert_exporter": "python",
   "pygments_lexer": "ipython3",
   "version": "3.7.3"
  }
 },
 "nbformat": 4,
 "nbformat_minor": 2
}
