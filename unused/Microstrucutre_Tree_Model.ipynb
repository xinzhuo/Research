{
 "cells": [
  {
   "cell_type": "code",
   "execution_count": 1,
   "metadata": {},
   "outputs": [
    {
     "name": "stdout",
     "output_type": "stream",
     "text": [
      "hft research system version 2.2\n"
     ]
    }
   ],
   "source": [
    "import numpy as np\n",
    "import pandas as pd\n",
    "import datetime as dt\n",
    "import sys\n",
    "import math\n",
    "from hft_rsys import *\n",
    "import matplotlib.pyplot as plt\n",
    "import copy\n",
    "from Helper import *\n",
    "from observe_order_book import HRB\n",
    "\n",
    "import pickle\n",
    "from Microstructure_Factors import *"
   ]
  },
  {
   "cell_type": "code",
   "execution_count": 10,
   "metadata": {},
   "outputs": [
    {
     "data": {
      "text/plain": [
       "'3.7.3 (default, Mar 27 2019, 22:11:17) \\n[GCC 7.3.0]'"
      ]
     },
     "execution_count": 10,
     "metadata": {},
     "output_type": "execute_result"
    }
   ],
   "source": [
    "import sys\n",
    "sys.version"
   ]
  },
  {
   "cell_type": "code",
   "execution_count": 2,
   "metadata": {},
   "outputs": [
    {
     "name": "stderr",
     "output_type": "stream",
     "text": [
      "/home/dxz/anaconda3/lib/python3.7/site-packages/pandas/core/indexing.py:1494: FutureWarning: \n",
      "Passing list-likes to .loc or [] with any missing label will raise\n",
      "KeyError in the future, you can use .reindex() as an alternative.\n",
      "\n",
      "See the documentation here:\n",
      "https://pandas.pydata.org/pandas-docs/stable/indexing.html#deprecate-loc-reindex-listlike\n",
      "  return self._getitem_tuple(key)\n"
     ]
    }
   ],
   "source": [
    "number = str(6)\n",
    "Month = \"190\" + number\n",
    "with open(Month + '.pickle', 'rb') as handle:\n",
    "    hrb = pickle.load(handle)\n",
    "    msf = MSF_Library(hrb)\n"
   ]
  },
  {
   "cell_type": "code",
   "execution_count": 3,
   "metadata": {},
   "outputs": [
    {
     "name": "stdout",
     "output_type": "stream",
     "text": [
      "Index(['BidPrice5', 'BidSize5', 'BidPrice4', 'BidSize4', 'BidPrice3',\n",
      "       'BidSize3', 'BidPrice2', 'BidSize2', 'BidPrice1', 'BidSize1',\n",
      "       'AskPrice1', 'AskSize1', 'AskPrice2', 'AskSize2', 'AskPrice3',\n",
      "       'AskSize3', 'AskPrice4', 'AskSize4', 'AskPrice5', 'AskSize5',\n",
      "       'TimeStamp', 'hCount', 'FallLimit', 'RiseLimit', 'TotalVolume',\n",
      "       'Turnover', 'MidPrice', 'bid_or_ask', 'volume', 'turnover', 'vwap',\n",
      "       'vwap_position', 'ret_10', 'ret_-1', 'sprd', 'sprd_ma', 'sprd_stdev',\n",
      "       'volume_frac', 'base_lv1_distance', 'oppo_lv1_distance',\n",
      "       'base_widen_distance', 'oppo_widen_distance', 'best_quote_ratio',\n",
      "       'base_TT_mean', 'oppo_TT_mean', 'base_SN_mean', 'oppo_SN_mean',\n",
      "       'base_TR_mean', 'oppo_TR_mean', 'base_price_stdev', 'oppo_price_stdev'],\n",
      "      dtype='object')\n"
     ]
    }
   ],
   "source": [
    "msf.df.drop([ 'volume', 'turnover'], axis = 1, inplace = True)\n",
    "msf.get_all()\n",
    "ndf = msf.df \n",
    "pd.set_option('display.max_columns', 500)\n",
    "unused_column_names = [\"BidPrice5\", \"BidSize5\", \"BidPrice4\", \"BidSize4\",\n",
    "                        \"BidPrice3\", \"BidSize3\", \"BidPrice2\", \"BidSize2\",\n",
    "                        \"BidPrice1\", \"BidSize1\", \"AskPrice1\", \"AskSize1\",\n",
    "                        \"AskPrice2\", \"AskSize2\", \"AskPrice3\", \"AskSize3\",\n",
    "                        \"AskPrice4\", \"AskSize4\", \"AskPrice5\", \"AskSize5\",\n",
    "                        \"turnover\", \"TimeStamp\", \"hCount\",\n",
    "                        \"FallLimit\", \"RiseLimit\", \"TotalVolume\", \"Turnover\",\n",
    "                        \"MidPrice\", \"bid_or_ask\", \"vwap\"]\n",
    "\n",
    "tdf = copy.deepcopy(ndf)\n",
    "# remove first 50 rows\n",
    "tdf = tdf.iloc[50:]\n",
    "tdf = tdf[tdf[\"bid_or_ask\"] != \"NAN\"]\n",
    "tdf.drop(unused_column_names, axis = 1, inplace = True)\n"
   ]
  },
  {
   "cell_type": "code",
   "execution_count": null,
   "metadata": {},
   "outputs": [],
   "source": []
  },
  {
   "cell_type": "code",
   "execution_count": 4,
   "metadata": {},
   "outputs": [
    {
     "name": "stdout",
     "output_type": "stream",
     "text": [
      "4502\n",
      "(4502, 21)\n"
     ]
    }
   ],
   "source": [
    "from sklearn import tree\n",
    "feature_names = tdf.columns.values\n",
    "predictors = tdf.values\n",
    "responses = msf.response_list[50:]\n",
    "responses = responses[~np.isnan(responses)]\n",
    "\n",
    "\"\"\"\n",
    "for name in feature_names:\n",
    "    print(name + \":\")\n",
    "    print(tdf[name].isnull().any().any())\n",
    "\"\"\"\n",
    "print(len(responses))\n",
    "print(predictors.shape)\n"
   ]
  },
  {
   "cell_type": "code",
   "execution_count": 8,
   "metadata": {
    "scrolled": true
   },
   "outputs": [
    {
     "data": {
      "text/plain": [
       "[Text(673.9130434782609, 705.8333333333334, 'oppo_price_stdev <= 2.242\\nentropy = 0.311\\nsamples = 4502\\nvalue = [867, 3635]'),\n",
       " Text(323.4782608695652, 577.5, 'ret_10 <= -3.75\\nentropy = 0.279\\nsamples = 3515\\nvalue = [588, 2927]'),\n",
       " Text(161.7391304347826, 449.16666666666663, 'sprd <= 6.5\\nentropy = 0.368\\nsamples = 489\\nvalue = [119, 370]'),\n",
       " Text(107.82608695652173, 320.8333333333333, 'best_quote_ratio <= 0.437\\nentropy = 0.407\\nsamples = 316\\nvalue = [90, 226]'),\n",
       " Text(53.91304347826087, 192.5, 'entropy = 0.474\\nsamples = 114\\nvalue = [44, 70]'),\n",
       " Text(161.7391304347826, 192.5, 'entropy = 0.352\\nsamples = 202\\nvalue = [46, 156]'),\n",
       " Text(215.65217391304347, 320.8333333333333, 'entropy = 0.279\\nsamples = 173\\nvalue = [29, 144]'),\n",
       " Text(485.2173913043478, 449.16666666666663, 'sprd <= 5.5\\nentropy = 0.262\\nsamples = 3026\\nvalue = [469, 2557]'),\n",
       " Text(323.4782608695652, 320.8333333333333, 'volume <= 1.5\\nentropy = 0.304\\nsamples = 1529\\nvalue = [286, 1243]'),\n",
       " Text(269.5652173913043, 192.5, 'entropy = 0.175\\nsamples = 196\\nvalue = [19, 177]'),\n",
       " Text(377.39130434782606, 192.5, 'base_TR_mean <= 0.75\\nentropy = 0.32\\nsamples = 1333\\nvalue = [267, 1066]'),\n",
       " Text(323.4782608695652, 64.16666666666663, 'entropy = 0.3\\nsamples = 1014\\nvalue = [186, 828]'),\n",
       " Text(431.30434782608694, 64.16666666666663, 'entropy = 0.379\\nsamples = 319\\nvalue = [81, 238]'),\n",
       " Text(646.9565217391304, 320.8333333333333, 'volume <= 10.5\\nentropy = 0.215\\nsamples = 1497\\nvalue = [183, 1314]'),\n",
       " Text(593.0434782608695, 192.5, 'oppo_price_stdev <= 1.897\\nentropy = 0.19\\nsamples = 1214\\nvalue = [129, 1085]'),\n",
       " Text(539.1304347826086, 64.16666666666663, 'entropy = 0.203\\nsamples = 1064\\nvalue = [122, 942]'),\n",
       " Text(646.9565217391304, 64.16666666666663, 'entropy = 0.089\\nsamples = 150\\nvalue = [7, 143]'),\n",
       " Text(700.8695652173913, 192.5, 'entropy = 0.309\\nsamples = 283\\nvalue = [54, 229]'),\n",
       " Text(1024.3478260869565, 577.5, 'volume <= 7.5\\nentropy = 0.406\\nsamples = 987\\nvalue = [279, 708]'),\n",
       " Text(916.5217391304348, 449.16666666666663, 'base_SN_mean <= 0.55\\nentropy = 0.35\\nsamples = 518\\nvalue = [117, 401]'),\n",
       " Text(862.6086956521739, 320.8333333333333, 'oppo_SN_mean <= 0.45\\nentropy = 0.311\\nsamples = 400\\nvalue = [77, 323]'),\n",
       " Text(808.695652173913, 192.5, 'entropy = 0.263\\nsamples = 276\\nvalue = [43, 233]'),\n",
       " Text(916.5217391304348, 192.5, 'entropy = 0.398\\nsamples = 124\\nvalue = [34, 90]'),\n",
       " Text(970.4347826086956, 320.8333333333333, 'entropy = 0.448\\nsamples = 118\\nvalue = [40, 78]'),\n",
       " Text(1132.1739130434783, 449.16666666666663, 'base_widen_distance <= 4.5\\nentropy = 0.452\\nsamples = 469\\nvalue = [162, 307]'),\n",
       " Text(1078.2608695652173, 320.8333333333333, 'entropy = 0.487\\nsamples = 253\\nvalue = [106, 147]'),\n",
       " Text(1186.086956521739, 320.8333333333333, 'entropy = 0.384\\nsamples = 216\\nvalue = [56, 160]')]"
      ]
     },
     "execution_count": 8,
     "metadata": {},
     "output_type": "execute_result"
    }
   ],
   "source": [
    "clf = tree.DecisionTreeClassifier(max_depth = 5, min_samples_split = 300, min_samples_leaf = 100)\n",
    "clf = clf.fit(predictors, responses)\n",
    "\n",
    "%matplotlib qt\n",
    "fig = plt.figure(figsize=(16, 10))\n",
    "tree.plot_tree(clf, feature_names = feature_names, fontsize = 6)"
   ]
  },
  {
   "cell_type": "code",
   "execution_count": 6,
   "metadata": {},
   "outputs": [],
   "source": [
    "plt.close()\n",
    "fig = plt.figure(figsize=(16, 10))\n",
    "importance = clf.feature_importances_\n",
    "importance = pd.DataFrame(importance, index=feature_names, \n",
    "                          columns=[\"Importance\"])\n",
    "importance.sort_values(by = [\"Importance\"], ascending = False, inplace = True)\n",
    "importance.plot.bar()\n",
    "plt.tight_layout()\n",
    "plt.xticks(rotation = 45)\n",
    "plt.show()"
   ]
  },
  {
   "cell_type": "code",
   "execution_count": 7,
   "metadata": {},
   "outputs": [
    {
     "ename": "SyntaxError",
     "evalue": "invalid syntax (<ipython-input-7-871c8f2a6ca6>, line 1)",
     "output_type": "error",
     "traceback": [
      "\u001b[0;36m  File \u001b[0;32m\"<ipython-input-7-871c8f2a6ca6>\"\u001b[0;36m, line \u001b[0;32m1\u001b[0m\n\u001b[0;31m    Ret shift 1\u001b[0m\n\u001b[0m            ^\u001b[0m\n\u001b[0;31mSyntaxError\u001b[0m\u001b[0;31m:\u001b[0m invalid syntax\n"
     ]
    }
   ],
   "source": [
    "Ret shift 1"
   ]
  }
 ],
 "metadata": {
  "kernelspec": {
   "display_name": "Python 3",
   "language": "python",
   "name": "python3"
  },
  "language_info": {
   "codemirror_mode": {
    "name": "ipython",
    "version": 3
   },
   "file_extension": ".py",
   "mimetype": "text/x-python",
   "name": "python",
   "nbconvert_exporter": "python",
   "pygments_lexer": "ipython3",
   "version": "3.7.3"
  }
 },
 "nbformat": 4,
 "nbformat_minor": 2
}
